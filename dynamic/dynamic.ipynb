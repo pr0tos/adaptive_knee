{
 "cells": [
  {
   "cell_type": "code",
   "execution_count": 2,
   "metadata": {},
   "outputs": [],
   "source": [
    "import matplotlib.pyplot as plt\n",
    "import numpy as np\n",
    "import scipy as sc\n",
    "import random\n",
    "from sympy import *\n",
    "from sympy import init_printing\n",
    "from sympy.physics.mechanics import dynamicsymbols\n",
    "from sympy.printing.latex import LatexPrinter\n",
    "from sympy import Derivative\n",
    "# Кастомный LatexPrinter для отображения производных с точками\n",
    "class DotLatexPrinter(LatexPrinter):\n",
    "    def _print_Derivative(self, expr):\n",
    "        func = self._print(expr.expr)\n",
    "        if expr.variables == (t,):\n",
    "            return r'\\dot{%s}' % func\n",
    "        elif expr.variables == (t, t):\n",
    "            return r'\\ddot{%s}' % func\n",
    "        return super()._print_Derivative(expr)\n",
    "\n",
    "# Создаём объект-функцию для кастомного принтера\n",
    "class CustomLatexPrinter:\n",
    "    def __call__(self, expr, **kwargs):\n",
    "        return DotLatexPrinter().doprint(expr)\n",
    "\n",
    "# Инициализация печати с кастомным принтером\n",
    "init_printing(use_latex='mathjax', latex_printer=CustomLatexPrinter())\n"
   ]
  },
  {
   "cell_type": "code",
   "execution_count": 3,
   "metadata": {},
   "outputs": [],
   "source": [
    "t = symbols('t')\n",
    "l1, l2, l_m1, l_m2, m1, m2, I_1, I_2, g, r1, r2 = symbols('l1 l2 l_m1 l_m2 m1 m2 I_1 I_2 g r1 r2')\n",
    "Q1, Q2 = symbols('Q1 Q2')\n",
    "q1= Function('q1')(t)\n",
    "q2 = Function('q2')(t)"
   ]
  },
  {
   "cell_type": "code",
   "execution_count": 4,
   "metadata": {},
   "outputs": [],
   "source": [
    "dq1, dq2 = diff(q1, t), diff(q2, t)  # Первая производная (угловые скорости)\n",
    "ddq1, ddq2 = diff(dq1, t), diff(dq2, t)  # Вторая производная (угловые ускорения)"
   ]
  },
  {
   "cell_type": "code",
   "execution_count": 5,
   "metadata": {},
   "outputs": [
    {
     "data": {
      "text/latex": [
       "$\\displaystyle l_{1} \\sin{\\left(q_{1}{\\left(t \\right)} \\right)}$"
      ],
      "text/plain": [
       "l₁⋅sin(q₁(t))"
      ]
     },
     "metadata": {},
     "output_type": "display_data"
    },
    {
     "data": {
      "text/latex": [
       "$\\displaystyle l_{1} \\cos{\\left(q_{1}{\\left(t \\right)} \\right)}$"
      ],
      "text/plain": [
       "l₁⋅cos(q₁(t))"
      ]
     },
     "metadata": {},
     "output_type": "display_data"
    },
    {
     "data": {
      "text/latex": [
       "$\\displaystyle l_{1} \\sin{\\left(q_{1}{\\left(t \\right)} \\right)} + l_{2} \\sin{\\left(q_{1}{\\left(t \\right)} + q_{2}{\\left(t \\right)} \\right)}$"
      ],
      "text/plain": [
       "l₁⋅sin(q₁(t)) + l₂⋅sin(q₁(t) + q₂(t))"
      ]
     },
     "metadata": {},
     "output_type": "display_data"
    },
    {
     "data": {
      "text/latex": [
       "$\\displaystyle l_{1} \\cos{\\left(q_{1}{\\left(t \\right)} \\right)} + l_{2} \\cos{\\left(q_{1}{\\left(t \\right)} + q_{2}{\\left(t \\right)} \\right)}$"
      ],
      "text/plain": [
       "l₁⋅cos(q₁(t)) + l₂⋅cos(q₁(t) + q₂(t))"
      ]
     },
     "metadata": {},
     "output_type": "display_data"
    }
   ],
   "source": [
    "#Кинематика\n",
    "B_x = l1*sin(q1)\n",
    "B_y = l1*cos(q1) \n",
    "C_x = l1*sin(q1)+l2*sin(q1+q2)\n",
    "C_y = l1*cos(q1)+l2*cos(q1+q2)\n",
    "display(B_x, B_y, C_x, C_y)"
   ]
  },
  {
   "cell_type": "code",
   "execution_count": 6,
   "metadata": {},
   "outputs": [
    {
     "data": {
      "text/latex": [
       "$\\displaystyle 0.5 I_{1} \\dot{q_{1}{\\left(t \\right)}}^{2} + 0.5 m_{1} \\left(r_{1}^{2} \\sin^{2}{\\left(q_{1}{\\left(t \\right)} \\right)} \\dot{q_{1}{\\left(t \\right)}}^{2} + r_{1}^{2} \\cos^{2}{\\left(q_{1}{\\left(t \\right)} \\right)} \\dot{q_{1}{\\left(t \\right)}}^{2}\\right)$"
      ],
      "text/plain": [
       "                  2          ⎛                           2                     ↪\n",
       "       ⎛d        ⎞           ⎜  2    2        ⎛d        ⎞      2    2        ⎛ ↪\n",
       "0.5⋅I₁⋅⎜──(q₁(t))⎟  + 0.5⋅m₁⋅⎜r₁ ⋅sin (q₁(t))⋅⎜──(q₁(t))⎟  + r₁ ⋅cos (q₁(t))⋅⎜ ↪\n",
       "       ⎝dt       ⎠           ⎝                ⎝dt       ⎠                    ⎝ ↪\n",
       "\n",
       "↪           2⎞\n",
       "↪ d        ⎞ ⎟\n",
       "↪ ──(q₁(t))⎟ ⎟\n",
       "↪ dt       ⎠ ⎠"
      ]
     },
     "metadata": {},
     "output_type": "display_data"
    },
    {
     "data": {
      "text/latex": [
       "$\\displaystyle 0.5 I_{2} \\left(\\dot{q_{1}{\\left(t \\right)}} + \\dot{q_{2}{\\left(t \\right)}}\\right)^{2} + 0.5 m_{2} \\left(\\left(- l_{1} \\sin{\\left(q_{1}{\\left(t \\right)} \\right)} \\dot{q_{1}{\\left(t \\right)}} - r_{2} \\left(\\dot{q_{1}{\\left(t \\right)}} + \\dot{q_{2}{\\left(t \\right)}}\\right) \\sin{\\left(q_{1}{\\left(t \\right)} + q_{2}{\\left(t \\right)} \\right)}\\right)^{2} + \\left(l_{1} \\cos{\\left(q_{1}{\\left(t \\right)} \\right)} \\dot{q_{1}{\\left(t \\right)}} + r_{2} \\left(\\dot{q_{1}{\\left(t \\right)}} + \\dot{q_{2}{\\left(t \\right)}}\\right) \\cos{\\left(q_{1}{\\left(t \\right)} + q_{2}{\\left(t \\right)} \\right)}\\right)^{2}\\right)$"
      ],
      "text/plain": [
       "                              2          ⎛                                     ↪\n",
       "       ⎛d           d        ⎞           ⎜⎛                d              ⎛d   ↪\n",
       "0.5⋅I₂⋅⎜──(q₁(t)) + ──(q₂(t))⎟  + 0.5⋅m₂⋅⎜⎜- l₁⋅sin(q₁(t))⋅──(q₁(t)) - r₂⋅⎜──( ↪\n",
       "       ⎝dt          dt       ⎠           ⎝⎝                dt             ⎝dt  ↪\n",
       "\n",
       "↪                                        2                                     ↪\n",
       "↪          d        ⎞                   ⎞    ⎛              d              ⎛d  ↪\n",
       "↪ q₁(t)) + ──(q₂(t))⎟⋅sin(q₁(t) + q₂(t))⎟  + ⎜l₁⋅cos(q₁(t))⋅──(q₁(t)) + r₂⋅⎜── ↪\n",
       "↪          dt       ⎠                   ⎠    ⎝              dt             ⎝dt ↪\n",
       "\n",
       "↪                                         2⎞\n",
       "↪           d        ⎞                   ⎞ ⎟\n",
       "↪ (q₁(t)) + ──(q₂(t))⎟⋅cos(q₁(t) + q₂(t))⎟ ⎟\n",
       "↪           dt       ⎠                   ⎠ ⎠"
      ]
     },
     "metadata": {},
     "output_type": "display_data"
    },
    {
     "data": {
      "text/latex": [
       "$\\displaystyle g m_{1} r_{1} \\cos{\\left(q_{1}{\\left(t \\right)} \\right)}$"
      ],
      "text/plain": [
       "g⋅m₁⋅r₁⋅cos(q₁(t))"
      ]
     },
     "metadata": {},
     "output_type": "display_data"
    },
    {
     "data": {
      "text/latex": [
       "$\\displaystyle g m_{2} \\left(l_{1} \\cos{\\left(q_{1}{\\left(t \\right)} \\right)} + r_{2} \\cos{\\left(q_{1}{\\left(t \\right)} + q_{2}{\\left(t \\right)} \\right)}\\right)$"
      ],
      "text/plain": [
       "g⋅m₂⋅(l₁⋅cos(q₁(t)) + r₂⋅cos(q₁(t) + q₂(t)))"
      ]
     },
     "metadata": {},
     "output_type": "display_data"
    }
   ],
   "source": [
    "#Dynamic\n",
    "#Лин.скор центров масс\n",
    "p_m1_x = r1*sin(q1)\n",
    "p_m1_y = r1*cos(q1) \n",
    "p_m2_x = l1*sin(q1)+r2*sin(q1+q2)\n",
    "p_m2_y = l1*cos(q1)+r2*cos(q1+q2)\n",
    "v_m1_sqr = p_m1_x.diff(t)**2+p_m1_y.diff(t)**2\n",
    "v_m2_sqr = p_m2_x.diff(t)**2+p_m2_y.diff(t)**2\n",
    "\n",
    "T_1 = (1/2) * m1 * v_m1_sqr+ (1/2)*I_1*diff(q1, t)**2 \n",
    "T_2 = (1/2) * m2 * v_m2_sqr + (1/2)*I_2*(diff(q1, t)+diff(q2, t))**2 \n",
    "T = T_1+T_2\n",
    "P_1 = m1*g*r1*cos(q1)\n",
    "P_2 = m2*g*(l1*cos(q1)+r2*cos(q1+q2))\n",
    "P = P_1+P_2\n",
    "\n",
    "display(T_1, T_2, P_1, P_2)"
   ]
  },
  {
   "cell_type": "code",
   "execution_count": 7,
   "metadata": {},
   "outputs": [
    {
     "data": {
      "text/latex": [
       "$\\displaystyle 0.5 I_{1} \\dot{q_{1}{\\left(t \\right)}}^{2} + 0.5 I_{2} \\left(\\dot{q_{1}{\\left(t \\right)}} + \\dot{q_{2}{\\left(t \\right)}}\\right)^{2} - g m_{1} r_{1} \\cos{\\left(q_{1}{\\left(t \\right)} \\right)} - g m_{2} \\left(l_{1} \\cos{\\left(q_{1}{\\left(t \\right)} \\right)} + r_{2} \\cos{\\left(q_{1}{\\left(t \\right)} + q_{2}{\\left(t \\right)} \\right)}\\right) + 0.5 m_{1} r_{1}^{2} \\dot{q_{1}{\\left(t \\right)}}^{2} + 0.5 m_{2} \\left(l_{1}^{2} \\dot{q_{1}{\\left(t \\right)}}^{2} + 2 l_{1} r_{2} \\cos{\\left(q_{2}{\\left(t \\right)} \\right)} \\dot{q_{1}{\\left(t \\right)}}^{2} + 2 l_{1} r_{2} \\cos{\\left(q_{2}{\\left(t \\right)} \\right)} \\dot{q_{1}{\\left(t \\right)}} \\dot{q_{2}{\\left(t \\right)}} + r_{2}^{2} \\dot{q_{1}{\\left(t \\right)}}^{2} + 2 r_{2}^{2} \\dot{q_{1}{\\left(t \\right)}} \\dot{q_{2}{\\left(t \\right)}} + r_{2}^{2} \\dot{q_{2}{\\left(t \\right)}}^{2}\\right)$"
      ],
      "text/plain": [
       "                  2                                 2                          ↪\n",
       "       ⎛d        ⎞           ⎛d           d        ⎞                           ↪\n",
       "0.5⋅I₁⋅⎜──(q₁(t))⎟  + 0.5⋅I₂⋅⎜──(q₁(t)) + ──(q₂(t))⎟  - g⋅m₁⋅r₁⋅cos(q₁(t)) - g ↪\n",
       "       ⎝dt       ⎠           ⎝dt          dt       ⎠                           ↪\n",
       "\n",
       "↪                                                                     2        ↪\n",
       "↪                                                        2 ⎛d        ⎞         ↪\n",
       "↪ ⋅m₂⋅(l₁⋅cos(q₁(t)) + r₂⋅cos(q₁(t) + q₂(t))) + 0.5⋅m₁⋅r₁ ⋅⎜──(q₁(t))⎟  + 0.5⋅ ↪\n",
       "↪                                                          ⎝dt       ⎠         ↪\n",
       "\n",
       "↪    ⎛               2                                 2                       ↪\n",
       "↪    ⎜  2 ⎛d        ⎞                       ⎛d        ⎞                        ↪\n",
       "↪ m₂⋅⎜l₁ ⋅⎜──(q₁(t))⎟  + 2⋅l₁⋅r₂⋅cos(q₂(t))⋅⎜──(q₁(t))⎟  + 2⋅l₁⋅r₂⋅cos(q₂(t))⋅ ↪\n",
       "↪    ⎝    ⎝dt       ⎠                       ⎝dt       ⎠                        ↪\n",
       "\n",
       "↪                                      2                                       ↪\n",
       "↪ d         d             2 ⎛d        ⎞        2 d         d             2 ⎛d  ↪\n",
       "↪ ──(q₁(t))⋅──(q₂(t)) + r₂ ⋅⎜──(q₁(t))⎟  + 2⋅r₂ ⋅──(q₁(t))⋅──(q₂(t)) + r₂ ⋅⎜── ↪\n",
       "↪ dt        dt              ⎝dt       ⎠          dt        dt              ⎝dt ↪\n",
       "\n",
       "↪         2⎞\n",
       "↪        ⎞ ⎟\n",
       "↪ (q₂(t))⎟ ⎟\n",
       "↪        ⎠ ⎠"
      ]
     },
     "execution_count": 7,
     "metadata": {},
     "output_type": "execute_result"
    }
   ],
   "source": [
    "L = T-P\n",
    "simplify(L)"
   ]
  },
  {
   "cell_type": "code",
   "execution_count": 8,
   "metadata": {},
   "outputs": [
    {
     "data": {
      "text/latex": [
       "$\\displaystyle Q_{1} = 1.0 I_{1} \\ddot{q_{1}{\\left(t \\right)}} + 1.0 I_{2} \\left(\\ddot{q_{1}{\\left(t \\right)}} + \\ddot{q_{2}{\\left(t \\right)}}\\right) - g m_{1} r_{1} \\sin{\\left(q_{1}{\\left(t \\right)} \\right)} - g m_{2} \\left(l_{1} \\sin{\\left(q_{1}{\\left(t \\right)} \\right)} + r_{2} \\sin{\\left(q_{1}{\\left(t \\right)} + q_{2}{\\left(t \\right)} \\right)}\\right) + 1.0 m_{1} r_{1}^{2} \\ddot{q_{1}{\\left(t \\right)}} + 1.0 m_{2} \\left(l_{1}^{2} \\ddot{q_{1}{\\left(t \\right)}} - 2 l_{1} r_{2} \\sin{\\left(q_{2}{\\left(t \\right)} \\right)} \\dot{q_{1}{\\left(t \\right)}} \\dot{q_{2}{\\left(t \\right)}} - l_{1} r_{2} \\sin{\\left(q_{2}{\\left(t \\right)} \\right)} \\dot{q_{2}{\\left(t \\right)}}^{2} + 2 l_{1} r_{2} \\cos{\\left(q_{2}{\\left(t \\right)} \\right)} \\ddot{q_{1}{\\left(t \\right)}} + l_{1} r_{2} \\cos{\\left(q_{2}{\\left(t \\right)} \\right)} \\ddot{q_{2}{\\left(t \\right)}} + r_{2}^{2} \\ddot{q_{1}{\\left(t \\right)}} + r_{2}^{2} \\ddot{q_{2}{\\left(t \\right)}}\\right)$"
      ],
      "text/plain": [
       "             2                  ⎛ 2            2        ⎞                      ↪\n",
       "            d                   ⎜d            d         ⎟                      ↪\n",
       "Q₁ = 1.0⋅I₁⋅───(q₁(t)) + 1.0⋅I₂⋅⎜───(q₁(t)) + ───(q₂(t))⎟ - g⋅m₁⋅r₁⋅sin(q₁(t)) ↪\n",
       "              2                 ⎜  2            2       ⎟                      ↪\n",
       "            dt                  ⎝dt           dt        ⎠                      ↪\n",
       "\n",
       "↪                                                               2              ↪\n",
       "↪                                                            2 d               ↪\n",
       "↪  - g⋅m₂⋅(l₁⋅sin(q₁(t)) + r₂⋅sin(q₁(t) + q₂(t))) + 1.0⋅m₁⋅r₁ ⋅───(q₁(t)) + 1. ↪\n",
       "↪                                                                2             ↪\n",
       "↪                                                              dt              ↪\n",
       "\n",
       "↪      ⎛     2                                                                 ↪\n",
       "↪      ⎜  2 d                               d         d                        ↪\n",
       "↪ 0⋅m₂⋅⎜l₁ ⋅───(q₁(t)) - 2⋅l₁⋅r₂⋅sin(q₂(t))⋅──(q₁(t))⋅──(q₂(t)) - l₁⋅r₂⋅sin(q₂ ↪\n",
       "↪      ⎜      2                             dt        dt                       ↪\n",
       "↪      ⎝    dt                                                                 ↪\n",
       "\n",
       "↪                 2                       2                             2      ↪\n",
       "↪      ⎛d        ⎞                       d                             d       ↪\n",
       "↪ (t))⋅⎜──(q₂(t))⎟  + 2⋅l₁⋅r₂⋅cos(q₂(t))⋅───(q₁(t)) + l₁⋅r₂⋅cos(q₂(t))⋅───(q₂( ↪\n",
       "↪      ⎝dt       ⎠                         2                             2     ↪\n",
       "↪                                        dt                            dt      ↪\n",
       "\n",
       "↪            2                2        ⎞\n",
       "↪         2 d              2 d         ⎟\n",
       "↪ t)) + r₂ ⋅───(q₁(t)) + r₂ ⋅───(q₂(t))⎟\n",
       "↪             2                2       ⎟\n",
       "↪           dt               dt        ⎠"
      ]
     },
     "metadata": {},
     "output_type": "display_data"
    },
    {
     "data": {
      "text/latex": [
       "$\\displaystyle Q_{2} = 1.0 I_{2} \\ddot{q_{1}{\\left(t \\right)}} + 1.0 I_{2} \\ddot{q_{2}{\\left(t \\right)}} - 1.0 g m_{2} r_{2} \\sin{\\left(q_{1}{\\left(t \\right)} + q_{2}{\\left(t \\right)} \\right)} + 1.0 l_{1} m_{2} r_{2} \\sin{\\left(q_{2}{\\left(t \\right)} \\right)} \\dot{q_{1}{\\left(t \\right)}}^{2} + 1.0 l_{1} m_{2} r_{2} \\cos{\\left(q_{2}{\\left(t \\right)} \\right)} \\ddot{q_{1}{\\left(t \\right)}} + 1.0 m_{2} r_{2}^{2} \\ddot{q_{1}{\\left(t \\right)}} + 1.0 m_{2} r_{2}^{2} \\ddot{q_{2}{\\left(t \\right)}}$"
      ],
      "text/plain": [
       "             2                   2                                             ↪\n",
       "            d                   d                                              ↪\n",
       "Q₂ = 1.0⋅I₂⋅───(q₁(t)) + 1.0⋅I₂⋅───(q₂(t)) - 1.0⋅g⋅m₂⋅r₂⋅sin(q₁(t) + q₂(t)) +  ↪\n",
       "              2                   2                                            ↪\n",
       "            dt                  dt                                             ↪\n",
       "\n",
       "↪                                    2                            2            ↪\n",
       "↪                         ⎛d        ⎞                            d             ↪\n",
       "↪ 1.0⋅l₁⋅m₂⋅r₂⋅sin(q₂(t))⋅⎜──(q₁(t))⎟  + 1.0⋅l₁⋅m₂⋅r₂⋅cos(q₂(t))⋅───(q₁(t)) +  ↪\n",
       "↪                         ⎝dt       ⎠                              2           ↪\n",
       "↪                                                                dt            ↪\n",
       "\n",
       "↪             2                       2        \n",
       "↪          2 d                     2 d         \n",
       "↪ 1.0⋅m₂⋅r₂ ⋅───(q₁(t)) + 1.0⋅m₂⋅r₂ ⋅───(q₂(t))\n",
       "↪              2                       2       \n",
       "↪            dt                      dt        "
      ]
     },
     "metadata": {},
     "output_type": "display_data"
    }
   ],
   "source": [
    "# Уравнения Лагранжа\n",
    "# Для q1\n",
    "dL_ddq1 = diff(L, dq1)\n",
    "d_dt_dL_ddq1 = diff(dL_ddq1, t)\n",
    "dL_dq1 = diff(L, q1)\n",
    "lagrange_eq1 = Eq(d_dt_dL_ddq1 - dL_dq1, Q1)\n",
    "\n",
    "# Для q2\n",
    "dL_ddq2 = diff(L, dq2)\n",
    "d_dt_dL_ddq2 = diff(dL_ddq2, t)\n",
    "dL_dq2 = diff(L, q2)\n",
    "lagrange_eq2 = Eq(d_dt_dL_ddq2 - dL_dq2, Q2)\n",
    "display(simplify(lagrange_eq1), simplify(lagrange_eq2))"
   ]
  }
 ],
 "metadata": {
  "kernelspec": {
   "display_name": "Python 3",
   "language": "python",
   "name": "python3"
  },
  "language_info": {
   "codemirror_mode": {
    "name": "ipython",
    "version": 3
   },
   "file_extension": ".py",
   "mimetype": "text/x-python",
   "name": "python",
   "nbconvert_exporter": "python",
   "pygments_lexer": "ipython3",
   "version": "3.10.12"
  }
 },
 "nbformat": 4,
 "nbformat_minor": 2
}
