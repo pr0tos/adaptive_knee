{
 "cells": [
  {
   "cell_type": "code",
   "execution_count": null,
   "id": "3d96086c",
   "metadata": {},
   "outputs": [],
   "source": [
    "\n"
   ]
  },
  {
   "cell_type": "code",
   "execution_count": null,
   "id": "ec52ab85",
   "metadata": {},
   "outputs": [],
   "source": [
    "\n"
   ]
  },
  {
   "cell_type": "code",
   "execution_count": null,
   "id": "2ae10253",
   "metadata": {},
   "outputs": [],
   "source": [
    "\n"
   ]
  },
  {
   "cell_type": "code",
   "execution_count": null,
   "id": "515b7fd6",
   "metadata": {},
   "outputs": [],
   "source": [
    "\n"
   ]
  },
  {
   "cell_type": "code",
   "execution_count": null,
   "id": "d3014cd4",
   "metadata": {},
   "outputs": [],
   "source": [
    "\n"
   ]
  },
  {
   "cell_type": "code",
   "execution_count": null,
   "id": "3400e845",
   "metadata": {},
   "outputs": [],
   "source": [
    "\n"
   ]
  },
  {
   "cell_type": "code",
   "execution_count": 2,
   "id": "246c5b44",
   "metadata": {},
   "outputs": [],
   "source": [
    "import pandas as pd\n",
    "import numpy as np\n",
    "import matplotlib.pyplot as plt\n",
    "import seaborn as sns\n",
    "import os\n",
    "import sys"
   ]
  },
  {
   "cell_type": "code",
   "execution_count": 7,
   "id": "8bd308bb",
   "metadata": {},
   "outputs": [],
   "source": [
    "data = pd.read_csv('1.csv', sep=';', encoding='utf-16le')"
   ]
  },
  {
   "cell_type": "code",
   "execution_count": 8,
   "id": "3dc69e0a",
   "metadata": {},
   "outputs": [
    {
     "data": {
      "text/html": [
       "<div>\n",
       "<style scoped>\n",
       "    .dataframe tbody tr th:only-of-type {\n",
       "        vertical-align: middle;\n",
       "    }\n",
       "\n",
       "    .dataframe tbody tr th {\n",
       "        vertical-align: top;\n",
       "    }\n",
       "\n",
       "    .dataframe thead th {\n",
       "        text-align: right;\n",
       "    }\n",
       "</style>\n",
       "<table border=\"1\" class=\"dataframe\">\n",
       "  <thead>\n",
       "    <tr style=\"text-align: right;\">\n",
       "      <th></th>\n",
       "      <th>_timestamp_</th>\n",
       "      <th>d:WalkingPhase</th>\n",
       "      <th>d:AngleKnee</th>\n",
       "      <th>d:AngleShin</th>\n",
       "      <th>d:AngleThigh</th>\n",
       "      <th>d:ServoFlex</th>\n",
       "      <th>d:ServoExtn</th>\n",
       "      <th>d:Toe</th>\n",
       "      <th>d:Heel</th>\n",
       "      <th>Unnamed: 9</th>\n",
       "    </tr>\n",
       "  </thead>\n",
       "  <tbody>\n",
       "    <tr>\n",
       "      <th>0</th>\n",
       "      <td>15004</td>\n",
       "      <td>0</td>\n",
       "      <td>-2</td>\n",
       "      <td>2</td>\n",
       "      <td>4</td>\n",
       "      <td>58</td>\n",
       "      <td>54</td>\n",
       "      <td>192</td>\n",
       "      <td>-33</td>\n",
       "      <td>NaN</td>\n",
       "    </tr>\n",
       "    <tr>\n",
       "      <th>1</th>\n",
       "      <td>15004</td>\n",
       "      <td>0</td>\n",
       "      <td>-2</td>\n",
       "      <td>3</td>\n",
       "      <td>6</td>\n",
       "      <td>58</td>\n",
       "      <td>54</td>\n",
       "      <td>217</td>\n",
       "      <td>-50</td>\n",
       "      <td>NaN</td>\n",
       "    </tr>\n",
       "    <tr>\n",
       "      <th>2</th>\n",
       "      <td>15026</td>\n",
       "      <td>0</td>\n",
       "      <td>-2</td>\n",
       "      <td>3</td>\n",
       "      <td>6</td>\n",
       "      <td>58</td>\n",
       "      <td>54</td>\n",
       "      <td>217</td>\n",
       "      <td>-50</td>\n",
       "      <td>NaN</td>\n",
       "    </tr>\n",
       "    <tr>\n",
       "      <th>3</th>\n",
       "      <td>15048</td>\n",
       "      <td>0</td>\n",
       "      <td>-2</td>\n",
       "      <td>3</td>\n",
       "      <td>6</td>\n",
       "      <td>58</td>\n",
       "      <td>54</td>\n",
       "      <td>245</td>\n",
       "      <td>-66</td>\n",
       "      <td>NaN</td>\n",
       "    </tr>\n",
       "    <tr>\n",
       "      <th>4</th>\n",
       "      <td>15070</td>\n",
       "      <td>0</td>\n",
       "      <td>-2</td>\n",
       "      <td>4</td>\n",
       "      <td>7</td>\n",
       "      <td>58</td>\n",
       "      <td>54</td>\n",
       "      <td>274</td>\n",
       "      <td>-83</td>\n",
       "      <td>NaN</td>\n",
       "    </tr>\n",
       "  </tbody>\n",
       "</table>\n",
       "</div>"
      ],
      "text/plain": [
       "   _timestamp_  d:WalkingPhase  d:AngleKnee  d:AngleShin  d:AngleThigh  \\\n",
       "0        15004               0           -2            2             4   \n",
       "1        15004               0           -2            3             6   \n",
       "2        15026               0           -2            3             6   \n",
       "3        15048               0           -2            3             6   \n",
       "4        15070               0           -2            4             7   \n",
       "\n",
       "   d:ServoFlex  d:ServoExtn  d:Toe  d:Heel  Unnamed: 9  \n",
       "0           58           54    192     -33         NaN  \n",
       "1           58           54    217     -50         NaN  \n",
       "2           58           54    217     -50         NaN  \n",
       "3           58           54    245     -66         NaN  \n",
       "4           58           54    274     -83         NaN  "
      ]
     },
     "execution_count": 8,
     "metadata": {},
     "output_type": "execute_result"
    }
   ],
   "source": [
    "data.head()"
   ]
  },
  {
   "cell_type": "code",
   "execution_count": null,
   "id": "076d00f8",
   "metadata": {},
   "outputs": [
    {
     "data": {
      "text/plain": [
       "Index(['_timestamp_', 'd:WalkingPhase', 'd:AngleKnee', 'd:AngleShin',\n",
       "       'd:AngleThigh', 'd:ServoFlex', 'd:ServoExtn', 'd:Toe', 'd:Heel',\n",
       "       'Unnamed: 9'],\n",
       "      dtype='object')"
      ]
     },
     "execution_count": 12,
     "metadata": {},
     "output_type": "execute_result"
    }
   ],
   "source": [
    "for i in range(len(data)):"
   ]
  },
  {
   "cell_type": "code",
   "execution_count": null,
   "id": "beb302cf",
   "metadata": {},
   "outputs": [],
   "source": []
  }
 ],
 "metadata": {
  "kernelspec": {
   "display_name": "knee",
   "language": "python",
   "name": "python3"
  },
  "language_info": {
   "codemirror_mode": {
    "name": "ipython",
    "version": 3
   },
   "file_extension": ".py",
   "mimetype": "text/x-python",
   "name": "python",
   "nbconvert_exporter": "python",
   "pygments_lexer": "ipython3",
   "version": "3.8.20"
  }
 },
 "nbformat": 4,
 "nbformat_minor": 5
}
